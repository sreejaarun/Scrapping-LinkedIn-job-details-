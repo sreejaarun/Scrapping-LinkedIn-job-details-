{
  "nbformat": 4,
  "nbformat_minor": 0,
  "metadata": {
    "colab": {
      "provenance": [],
      "authorship_tag": "ABX9TyOCeEb27OWASQZcKNSs4sbK",
      "include_colab_link": true
    },
    "kernelspec": {
      "name": "python3",
      "display_name": "Python 3"
    },
    "language_info": {
      "name": "python"
    }
  },
  "cells": [
    {
      "cell_type": "markdown",
      "metadata": {
        "id": "view-in-github",
        "colab_type": "text"
      },
      "source": [
        "<a href=\"https://colab.research.google.com/github/sreejaarun/Scrapping-LinkedIn-job-details-/blob/main/LinkedIn.ipynb\" target=\"_parent\"><img src=\"https://colab.research.google.com/assets/colab-badge.svg\" alt=\"Open In Colab\"/></a>"
      ]
    },
    {
      "cell_type": "code",
      "source": [
        "#mkdir scraper\n",
        "!pip install beautifulsoup4\n",
        "!pip install requests\n",
        "!pip install pandas\n",
        "!pip install selenium pandas openpyxl\n"
      ],
      "metadata": {
        "id": "Qp5kCXRK4XmL"
      },
      "execution_count": null,
      "outputs": []
    },
    {
      "cell_type": "code",
      "execution_count": 11,
      "metadata": {
        "colab": {
          "base_uri": "https://localhost:8080/"
        },
        "id": "2DlDJQPQ4U_P",
        "outputId": "9009fcd4-6379-44fe-9490-68c5641bdad6"
      },
      "outputs": [
        {
          "output_type": "stream",
          "name": "stdout",
          "text": [
            "Scraping complete. Data saved to linkedin-jobs.xlsx\n"
          ]
        }
      ],
      "source": [
        "import requests\n",
        "from bs4 import BeautifulSoup\n",
        "import pandas as pd\n",
        "\n",
        "# Set the LinkedIn URL for job search\n",
        "linkedin_url = 'https://www.linkedin.com/jobs?keywords=Software%20Developer'\n",
        "\n",
        "# Send an HTTP GET request to LinkedIn\n",
        "response = requests.get(linkedin_url)\n",
        "\n",
        "# Check if the request was successful\n",
        "if response.status_code == 200:\n",
        "    # Parse the HTML content using BeautifulSoup\n",
        "    soup = BeautifulSoup(response.text, 'html.parser')\n",
        "\n",
        "    # Select the job postings using appropriate selectors\n",
        "    job_postings = soup.find_all('li', class_='result-card')\n",
        "\n",
        "    # Initialize lists to store job data\n",
        "    job_titles = []\n",
        "    companies = []\n",
        "    locations = []\n",
        "    job_links = []\n",
        "\n",
        "    # Iterate through job postings and extract data\n",
        "    for job in job_postings:\n",
        "        job_title = job.find('h3', class_='result-card__title').text.strip()\n",
        "        company = job.find('a', class_='result-card__subtitle-link').text.strip()\n",
        "        location = job.find('span', class_='job-search-card__location').text.strip()\n",
        "        job_link = 'https://www.linkedin.com' + job.find('a', class_='result-card__full-card-link')['href']\n",
        "\n",
        "        # Check if the job title contains \"Software Developer\"\n",
        "        if 'software developer' in job_title.lower():\n",
        "            job_titles.append(job_title)\n",
        "            companies.append(company)\n",
        "            locations.append(location)\n",
        "            job_links.append(job_link)\n",
        "\n",
        "    # Create a DataFrame from the collected data\n",
        "    job_data = pd.DataFrame({'Job Title': job_titles, 'Company': companies, 'Location': locations, 'Job Link': job_links})\n",
        "\n",
        "    # Save the DataFrame to an Excel file\n",
        "    job_data.to_excel('linkedin-jobs.xlsx', index=False)\n",
        "\n",
        "    print('Scraping complete. Data saved to linkedin-jobs.xlsx')\n",
        "else:\n",
        "    print('Failed to retrieve the LinkedIn page.')\n"
      ]
    },
    {
      "cell_type": "code",
      "source": [],
      "metadata": {
        "id": "hMsMQc_5LtGX"
      },
      "execution_count": null,
      "outputs": []
    }
  ]
}